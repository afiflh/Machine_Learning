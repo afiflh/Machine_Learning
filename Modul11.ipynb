{
  "nbformat": 4,
  "nbformat_minor": 0,
  "metadata": {
    "colab": {
      "provenance": [],
      "gpuType": "T4",
      "authorship_tag": "ABX9TyNYM7+Xf9LlC5+vSc0CtKrU",
      "include_colab_link": true
    },
    "kernelspec": {
      "name": "python3",
      "display_name": "Python 3"
    },
    "language_info": {
      "name": "python"
    },
    "accelerator": "GPU"
  },
  "cells": [
    {
      "cell_type": "markdown",
      "metadata": {
        "id": "view-in-github",
        "colab_type": "text"
      },
      "source": [
        "<a href=\"https://colab.research.google.com/github/afiflh/Machine_Learning/blob/main/Modul11.ipynb\" target=\"_parent\"><img src=\"https://colab.research.google.com/assets/colab-badge.svg\" alt=\"Open In Colab\"/></a>"
      ]
    },
    {
      "cell_type": "markdown",
      "source": [
        "# Jobsheet 11: Convolutional Neural Network (CNN)\n",
        "\n",
        "Nama : Afif Lukmanul Hakim\n",
        "\n",
        "Kelas : TI-3G/02\n",
        "\n",
        "NIM : 2141720262\n"
      ],
      "metadata": {
        "id": "-dAks89gkqYD"
      }
    },
    {
      "cell_type": "markdown",
      "source": [
        "**Praktikum 1**\n",
        "\n",
        "Langkah 1 - Import Library"
      ],
      "metadata": {
        "id": "u8W6y0QklE5b"
      }
    },
    {
      "cell_type": "code",
      "source": [
        "from google.colab import drive\n",
        "drive.mount('/content/drive')"
      ],
      "metadata": {
        "colab": {
          "base_uri": "https://localhost:8080/"
        },
        "id": "rKul6aw1mBD6",
        "outputId": "4ab4c0f2-35ee-4fc4-c076-6e1e43208f07"
      },
      "execution_count": 2,
      "outputs": [
        {
          "output_type": "stream",
          "name": "stdout",
          "text": [
            "Mounted at /content/drive\n"
          ]
        }
      ]
    },
    {
      "cell_type": "code",
      "execution_count": 1,
      "metadata": {
        "id": "q4mf58hVkpqL"
      },
      "outputs": [],
      "source": [
        "import tensorflow as tf\n",
        "from keras.preprocessing.image import ImageDataGenerator"
      ]
    },
    {
      "cell_type": "markdown",
      "source": [
        "Langkah 2 - Pra Pengolahan Data\n",
        "\n",
        "Pada tahap ini kita akan sedikit melakukan manipulasi pada citra yang digunakan. Manipulasi yang dilakukan diantaranya adalah normalisasi nilai piksel, koreksi kemiringan, pembesaran (zoom), dan flip.\n",
        "\n",
        "Langkah 2.1 - Pra pengolahan Data Training"
      ],
      "metadata": {
        "id": "_O0t5xuqlSop"
      }
    },
    {
      "cell_type": "code",
      "source": [],
      "metadata": {
        "id": "NkfdqebVlO4W"
      },
      "execution_count": null,
      "outputs": []
    }
  ]
}