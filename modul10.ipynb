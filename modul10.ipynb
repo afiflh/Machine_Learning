{
  "nbformat": 4,
  "nbformat_minor": 0,
  "metadata": {
    "colab": {
      "provenance": [],
      "gpuType": "T4",
      "authorship_tag": "ABX9TyPLlKRZrWcVN5MNmR1YYRox",
      "include_colab_link": true
    },
    "kernelspec": {
      "name": "python3",
      "display_name": "Python 3"
    },
    "language_info": {
      "name": "python"
    },
    "accelerator": "GPU"
  },
  "cells": [
    {
      "cell_type": "markdown",
      "metadata": {
        "id": "view-in-github",
        "colab_type": "text"
      },
      "source": [
        "<a href=\"https://colab.research.google.com/github/afiflh/Machine_Learning/blob/main/modul10.ipynb\" target=\"_parent\"><img src=\"https://colab.research.google.com/assets/colab-badge.svg\" alt=\"Open In Colab\"/></a>"
      ]
    },
    {
      "cell_type": "markdown",
      "source": [
        "# Jobsheet 10: Recurrent Neural Network (RNN)\n",
        "\n",
        "Nama : Afif Lukmanul Hakim\n",
        "\n",
        "Kelas : TI-3G/02\n",
        "\n",
        "NIM : 2141720262\n",
        "\n",
        "**Praktikum 1**"
      ],
      "metadata": {
        "id": "29j6m6oet-vh"
      }
    },
    {
      "cell_type": "code",
      "execution_count": 3,
      "metadata": {
        "id": "eKXxwhtPt5X6"
      },
      "outputs": [],
      "source": [
        "# Setup\n",
        "\n",
        "import numpy as np\n",
        "import tensorflow_datasets as tfds\n",
        "import tensorflow as tf\n",
        "\n",
        "tfds.disable_progress_bar()"
      ]
    },
    {
      "cell_type": "code",
      "source": [
        "import matplotlib.pyplot as plt\n",
        "\n",
        "def plot_graphs(history, metric):\n",
        "    plt.plot(history.history[metric])\n",
        "    plt.plot(history.history['val_'+metric], '')\n",
        "    plt.xlabel(\"Epochs\")\n",
        "    plt.ylabel(metric)\n",
        "    plt.legend([metric, 'val_'+metric])"
      ],
      "metadata": {
        "id": "N1kB4OA-ulms"
      },
      "execution_count": 4,
      "outputs": []
    },
    {
      "cell_type": "code",
      "source": [
        "# Setup input pipeline\n",
        "\n",
        "dataset, info = tfds.load('imdb_reviews', with_info=True,\n",
        "                          as_supervised=True)\n",
        "train_dataset, test_dataset = dataset['train'], dataset['test']\n",
        "\n",
        "train_dataset.element_spec\n",
        "\n",
        "for example, label in train_dataset.take(1):\n",
        "  print('text: ', example.numpy())\n",
        "  print('label: ', label.numpy())\n",
        "\n",
        "BUFFER_SIZE = 10000\n",
        "BATCH_SIZE = 64\n",
        "\n",
        "train_dataset = train_dataset.shuffle(BUFFER_SIZE).batch(BATCH_SIZE).prefetch(tf.data.AUTOTUNE)\n",
        "test_dataset = test_dataset.batch(BATCH_SIZE).prefetch(tf.data.AUTOTUNE)\n",
        "\n",
        "for example, label in train_dataset.take(1):\n",
        "  print('texts: ', example.numpy()[:3])\n",
        "  print()\n",
        "  print('labels: ', label.numpy()[:3])\n"
      ],
      "metadata": {
        "colab": {
          "base_uri": "https://localhost:8080/"
        },
        "id": "y5lWqjqqu4_G",
        "outputId": "1125cd6d-c607-40aa-c63a-0f275f3bc61e"
      },
      "execution_count": 5,
      "outputs": [
        {
          "output_type": "stream",
          "name": "stdout",
          "text": [
            "Downloading and preparing dataset 80.23 MiB (download: 80.23 MiB, generated: Unknown size, total: 80.23 MiB) to /root/tensorflow_datasets/imdb_reviews/plain_text/1.0.0...\n",
            "Dataset imdb_reviews downloaded and prepared to /root/tensorflow_datasets/imdb_reviews/plain_text/1.0.0. Subsequent calls will reuse this data.\n",
            "text:  b\"This was an absolutely terrible movie. Don't be lured in by Christopher Walken or Michael Ironside. Both are great actors, but this must simply be their worst role in history. Even their great acting could not redeem this movie's ridiculous storyline. This movie is an early nineties US propaganda piece. The most pathetic scenes were those when the Columbian rebels were making their cases for revolutions. Maria Conchita Alonso appeared phony, and her pseudo-love affair with Walken was nothing but a pathetic emotional plug in a movie that was devoid of any real meaning. I am disappointed that there are movies like this, ruining actor's like Christopher Walken's good name. I could barely sit through it.\"\n",
            "label:  0\n",
            "texts:  [b'Little Edie and Big Edie are characters that anyone can feel compassion for. Even though their house was filthy, this is somehow understandable considering their mental illness. On the message board a poster wrote that \"Little Edie has the coping skills of an eight year old.\" This reminded me of when in the dramatized 2009 version, Big Edie says to Little Edie, \"If you\\'re stuck, it\\'s only with yourself!\" These women had everything; beauty, talent, intelligence, firm belief in their opinions and actions. Perhaps if Little Edie wasn\\'t so hard on herself the first time things didn\\'t work out, losing her hair, her job, and the love of her life, she would have made it. This somehow ties into what I believe is her mental illness: her inability to pick herself up when times are hard and see that good times lie ahead. The world will never know what have happened if she didn\\'t listen to her mom\\'s plea, \"Come home, Edie! Let me take care of you!\"<br /><br />Yet these understandably insecure women somehow manage to be brilliant, heartbreaking, and lovable, even in their extremely filthy home. These women were extraordinary, and their interaction with each other bring humor and sadness. When Edie had one of her emotional breakdowns, dwelling about what could have been, or about how she wants to get out of her home because she feels like a little girl, one gets the intense urge to hug her and tell her that \"everything will be okay!\" <br /><br />Great documentary!!<br /><br />9/10'\n",
            " b'This was great. When I saw the Japanese version first, it was probably the scariest movie I had ever seen. It was not blood and guts, it was eerie, atmospheric and terrifying. When the mother ghost lent over the bed in the Japanese version, I nearly had a heart attack... I was concerned that the American version would be watered down, and that Buffy would take away from the dark creepy nuances of the original version. I needn\\'t have been concerned. The makers of this movie wisely kept the same Japanese people who were involved with the original movie on hand, and gave the direction of the movie to the same man. They also set it in Japan in the same location, in the same house. In fact, the Japanese director took pains to remake the same movie as it was in the original, the only difference was the casting of American actors. That actually turned into a benefit as it added the element of \"Strangers in a Strange Land\" to the overall horror. Not only were they being haunted by an absolutely terrifying and relentless ghost, but they were also stuck in a completely foreign land, having difficulty integrating into society. It just added to the overall anxiety built into the movie and I thought it was an excellent touch.<br /><br />Buffy actually does a very good job. She looks vulnerable and is able to convey her fear well. There are none of the smart aleck remarks that are so common to American horror movies, or one liners that detract from the overall darkness and horror of the characters\\' situation. In fact, it was easily as good as The Ring which I also thoroughly enjoyed. I hope the future of American horror follows more closely the Japanese New Wave of horror started with the incredible success of Ringu. We are finally getting movies that actually can be categorized as \"Horror\"!! 8/10'\n",
            " b'I feel much less generous with this film than others of its ilk. The portrayal of madmen in this century is always done with them being so totally bizarre as to be a different species. Their antics are so outrageous as to be totally fictionalized. Everyone is Napoleon or some other historical figure; or they have a fascination with chickens. They are on the make or beating each other up. It\\'s as if the scriptwriter said, what can I make up for them to do, without an sense of what insanity or even mental illness is. Watch the wonderful human portrayal in \"One Flew Over the Cuckoo\\'s Nest\" where the illnesses are believable and real. I once worked in a State Mental hospital. I didn\\'t see any of these guys. These are too smart and calculating to make them come to life.']\n",
            "\n",
            "labels:  [1 1 0]\n"
          ]
        }
      ]
    },
    {
      "cell_type": "code",
      "source": [
        "# Buat Teks Encoder\n",
        "\n",
        "VOCAB_SIZE = 1000\n",
        "encoder = tf.keras.layers.TextVectorization(\n",
        "    max_tokens=VOCAB_SIZE)\n",
        "encoder.adapt(train_dataset.map(lambda text, label: text))"
      ],
      "metadata": {
        "id": "kyE0YanMvlta"
      },
      "execution_count": 7,
      "outputs": []
    },
    {
      "cell_type": "code",
      "source": [
        "vocab = np.array(encoder.get_vocabulary())\n",
        "vocab[:20]"
      ],
      "metadata": {
        "colab": {
          "base_uri": "https://localhost:8080/"
        },
        "id": "T_yQByhsy4iO",
        "outputId": "63ced215-f46e-4bc3-866f-9cc6d0333914"
      },
      "execution_count": 8,
      "outputs": [
        {
          "output_type": "execute_result",
          "data": {
            "text/plain": [
              "array(['', '[UNK]', 'the', 'and', 'a', 'of', 'to', 'is', 'in', 'it', 'i',\n",
              "       'this', 'that', 'br', 'was', 'as', 'for', 'with', 'movie', 'but'],\n",
              "      dtype='<U14')"
            ]
          },
          "metadata": {},
          "execution_count": 8
        }
      ]
    },
    {
      "cell_type": "code",
      "source": [
        "encoded_example = encoder(example)[:3].numpy()\n",
        "encoded_example"
      ],
      "metadata": {
        "colab": {
          "base_uri": "https://localhost:8080/"
        },
        "id": "GW6NnAEiy8N2",
        "outputId": "6d73c62e-f6eb-4bcb-c2f5-699fe135cc68"
      },
      "execution_count": 10,
      "outputs": [
        {
          "output_type": "execute_result",
          "data": {
            "text/plain": [
              "array([[111,   1,   3, ...,   0,   0,   0],\n",
              "       [ 11,  14,  85, ...,   0,   0,   0],\n",
              "       [ 10, 232,  73, ...,   0,   0,   0]])"
            ]
          },
          "metadata": {},
          "execution_count": 10
        }
      ]
    },
    {
      "cell_type": "code",
      "source": [
        "for n in range(3):\n",
        "  print(\"Original: \", example[n].numpy())\n",
        "  print(\"Round-trip: \", \" \".join(vocab[encoded_example[n]]))\n",
        "  print()"
      ],
      "metadata": {
        "colab": {
          "base_uri": "https://localhost:8080/"
        },
        "id": "tvfVkPOcy-EG",
        "outputId": "c72b156f-dbf4-4eed-9c67-64f0130913eb"
      },
      "execution_count": 11,
      "outputs": [
        {
          "output_type": "stream",
          "name": "stdout",
          "text": [
            "Original:  b'Little Edie and Big Edie are characters that anyone can feel compassion for. Even though their house was filthy, this is somehow understandable considering their mental illness. On the message board a poster wrote that \"Little Edie has the coping skills of an eight year old.\" This reminded me of when in the dramatized 2009 version, Big Edie says to Little Edie, \"If you\\'re stuck, it\\'s only with yourself!\" These women had everything; beauty, talent, intelligence, firm belief in their opinions and actions. Perhaps if Little Edie wasn\\'t so hard on herself the first time things didn\\'t work out, losing her hair, her job, and the love of her life, she would have made it. This somehow ties into what I believe is her mental illness: her inability to pick herself up when times are hard and see that good times lie ahead. The world will never know what have happened if she didn\\'t listen to her mom\\'s plea, \"Come home, Edie! Let me take care of you!\"<br /><br />Yet these understandably insecure women somehow manage to be brilliant, heartbreaking, and lovable, even in their extremely filthy home. These women were extraordinary, and their interaction with each other bring humor and sadness. When Edie had one of her emotional breakdowns, dwelling about what could have been, or about how she wants to get out of her home because she feels like a little girl, one gets the intense urge to hug her and tell her that \"everything will be okay!\" <br /><br />Great documentary!!<br /><br />9/10'\n",
            "Round-trip:  little [UNK] and big [UNK] are characters that anyone can feel [UNK] for even though their house was [UNK] this is somehow [UNK] [UNK] their [UNK] [UNK] on the message [UNK] a [UNK] [UNK] that little [UNK] has the [UNK] [UNK] of an [UNK] year old this [UNK] me of when in the [UNK] [UNK] version big [UNK] says to little [UNK] if youre [UNK] its only with yourself these women had everything beauty talent [UNK] [UNK] [UNK] in their [UNK] and [UNK] perhaps if little [UNK] wasnt so hard on herself the first time things didnt work out [UNK] her [UNK] her job and the love of her life she would have made it this somehow [UNK] into what i believe is her [UNK] [UNK] her [UNK] to [UNK] herself up when times are hard and see that good times [UNK] [UNK] the world will never know what have happened if she didnt [UNK] to her [UNK] [UNK] come home [UNK] let me take care of [UNK] br yet these [UNK] [UNK] women somehow [UNK] to be brilliant [UNK] and [UNK] even in their extremely [UNK] home these women were [UNK] and their [UNK] with each other bring humor and [UNK] when [UNK] had one of her emotional [UNK] [UNK] about what could have been or about how she wants to get out of her home because she feels like a little girl one gets the [UNK] [UNK] to [UNK] her and tell her that everything will be okay br br great [UNK] br [UNK]                                                                                                                                                                                                                                                                                                                                                                                                                                                                                                                               \n",
            "\n",
            "Original:  b'This was great. When I saw the Japanese version first, it was probably the scariest movie I had ever seen. It was not blood and guts, it was eerie, atmospheric and terrifying. When the mother ghost lent over the bed in the Japanese version, I nearly had a heart attack... I was concerned that the American version would be watered down, and that Buffy would take away from the dark creepy nuances of the original version. I needn\\'t have been concerned. The makers of this movie wisely kept the same Japanese people who were involved with the original movie on hand, and gave the direction of the movie to the same man. They also set it in Japan in the same location, in the same house. In fact, the Japanese director took pains to remake the same movie as it was in the original, the only difference was the casting of American actors. That actually turned into a benefit as it added the element of \"Strangers in a Strange Land\" to the overall horror. Not only were they being haunted by an absolutely terrifying and relentless ghost, but they were also stuck in a completely foreign land, having difficulty integrating into society. It just added to the overall anxiety built into the movie and I thought it was an excellent touch.<br /><br />Buffy actually does a very good job. She looks vulnerable and is able to convey her fear well. There are none of the smart aleck remarks that are so common to American horror movies, or one liners that detract from the overall darkness and horror of the characters\\' situation. In fact, it was easily as good as The Ring which I also thoroughly enjoyed. I hope the future of American horror follows more closely the Japanese New Wave of horror started with the incredible success of Ringu. We are finally getting movies that actually can be categorized as \"Horror\"!! 8/10'\n",
            "Round-trip:  this was great when i saw the japanese version first it was probably the [UNK] movie i had ever seen it was not blood and [UNK] it was [UNK] [UNK] and [UNK] when the mother [UNK] [UNK] over the [UNK] in the japanese version i nearly had a heart [UNK] i was [UNK] that the american version would be [UNK] down and that [UNK] would take away from the dark creepy [UNK] of the original version i [UNK] have been [UNK] the [UNK] of this movie [UNK] kept the same japanese people who were involved with the original movie on hand and gave the direction of the movie to the same man they also set it in [UNK] in the same [UNK] in the same house in fact the japanese director took [UNK] to remake the same movie as it was in the original the only [UNK] was the casting of american actors that actually turned into a [UNK] as it [UNK] the [UNK] of [UNK] in a strange [UNK] to the overall horror not only were they being [UNK] by an absolutely [UNK] and [UNK] [UNK] but they were also [UNK] in a completely [UNK] [UNK] having [UNK] [UNK] into society it just [UNK] to the overall [UNK] [UNK] into the movie and i thought it was an excellent [UNK] br [UNK] actually does a very good job she looks [UNK] and is able to [UNK] her [UNK] well there are none of the [UNK] [UNK] [UNK] that are so [UNK] to american horror movies or one [UNK] that [UNK] from the overall [UNK] and horror of the characters situation in fact it was easily as good as the [UNK] which i also [UNK] enjoyed i hope the future of american horror [UNK] more [UNK] the japanese new [UNK] of horror started with the [UNK] [UNK] of [UNK] we are finally getting movies that actually can be [UNK] as horror [UNK]                                                                                                                                                                                                                                                                                                                                                                                                                                                             \n",
            "\n",
            "Original:  b'I feel much less generous with this film than others of its ilk. The portrayal of madmen in this century is always done with them being so totally bizarre as to be a different species. Their antics are so outrageous as to be totally fictionalized. Everyone is Napoleon or some other historical figure; or they have a fascination with chickens. They are on the make or beating each other up. It\\'s as if the scriptwriter said, what can I make up for them to do, without an sense of what insanity or even mental illness is. Watch the wonderful human portrayal in \"One Flew Over the Cuckoo\\'s Nest\" where the illnesses are believable and real. I once worked in a State Mental hospital. I didn\\'t see any of these guys. These are too smart and calculating to make them come to life.'\n",
            "Round-trip:  i feel much less [UNK] with this film than others of its [UNK] the [UNK] of [UNK] in this [UNK] is always done with them being so totally [UNK] as to be a different [UNK] their [UNK] are so [UNK] as to be totally [UNK] everyone is [UNK] or some other [UNK] figure or they have a [UNK] with [UNK] they are on the make or [UNK] each other up its as if the [UNK] said what can i make up for them to do without an sense of what [UNK] or even [UNK] [UNK] is watch the wonderful human [UNK] in one [UNK] over the [UNK] [UNK] where the [UNK] are believable and real i once worked in a [UNK] [UNK] [UNK] i didnt see any of these guys these are too [UNK] and [UNK] to make them come to life                                                                                                                                                                                                                                                                                                                                                                                                                                                                                                                                                                                                                                                 \n",
            "\n"
          ]
        }
      ]
    },
    {
      "cell_type": "code",
      "source": [
        "# Buat Model\n",
        "\n",
        "model = tf.keras.Sequential([\n",
        "    encoder,\n",
        "    tf.keras.layers.Embedding(\n",
        "        input_dim=len(encoder.get_vocabulary()),\n",
        "        output_dim=64,\n",
        "        # Use masking to handle the variable sequence lengths\n",
        "        mask_zero=True),\n",
        "    tf.keras.layers.Bidirectional(tf.keras.layers.LSTM(64)),\n",
        "    tf.keras.layers.Dense(64, activation='relu'),\n",
        "    tf.keras.layers.Dense(1)\n",
        "])"
      ],
      "metadata": {
        "id": "P5OiTDM5zLTp"
      },
      "execution_count": 12,
      "outputs": []
    },
    {
      "cell_type": "code",
      "source": [
        "print([layer.supports_masking for layer in model.layers])"
      ],
      "metadata": {
        "colab": {
          "base_uri": "https://localhost:8080/"
        },
        "id": "JkeVVR0XzRYI",
        "outputId": "6296010a-8587-4f53-c131-27bfa3617e07"
      },
      "execution_count": 14,
      "outputs": [
        {
          "output_type": "stream",
          "name": "stdout",
          "text": [
            "[False, True, True, True, True]\n"
          ]
        }
      ]
    },
    {
      "cell_type": "code",
      "source": [
        "# predict on a sample text without padding.\n",
        "\n",
        "sample_text = ('The movie was cool. The animation and the graphics '\n",
        "               'were out of this world. I would recommend this movie.')\n",
        "predictions = model.predict(np.array([sample_text]))\n",
        "print(predictions[0])"
      ],
      "metadata": {
        "colab": {
          "base_uri": "https://localhost:8080/"
        },
        "id": "NmYxu33Pz_wm",
        "outputId": "96b6f451-09c2-48e9-9cea-8a590e35ce97"
      },
      "execution_count": 15,
      "outputs": [
        {
          "output_type": "stream",
          "name": "stdout",
          "text": [
            "1/1 [==============================] - 9s 9s/step\n",
            "[0.00338426]\n"
          ]
        }
      ]
    },
    {
      "cell_type": "code",
      "source": [
        "# predict on a sample text with padding\n",
        "\n",
        "padding = \"the \" * 2000\n",
        "predictions = model.predict(np.array([sample_text, padding]))\n",
        "print(predictions[0])"
      ],
      "metadata": {
        "colab": {
          "base_uri": "https://localhost:8080/"
        },
        "id": "zDa8QZmC0H3I",
        "outputId": "ac41688c-fda0-4dc9-e1c6-1f8e01b846de"
      },
      "execution_count": 16,
      "outputs": [
        {
          "output_type": "stream",
          "name": "stdout",
          "text": [
            "1/1 [==============================] - 0s 62ms/step\n",
            "[0.00338426]\n"
          ]
        }
      ]
    },
    {
      "cell_type": "code",
      "source": [
        "model.compile(loss=tf.keras.losses.BinaryCrossentropy(from_logits=True),\n",
        "              optimizer=tf.keras.optimizers.Adam(1e-4),\n",
        "              metrics=['accuracy'])"
      ],
      "metadata": {
        "id": "DFGOrgEX0Nvw"
      },
      "execution_count": 17,
      "outputs": []
    },
    {
      "cell_type": "code",
      "source": [
        "# Train Model\n",
        "\n",
        "history = model.fit(train_dataset, epochs=10,\n",
        "          validation_data=test_dataset,\n",
        "          validation_steps=30)"
      ],
      "metadata": {
        "colab": {
          "base_uri": "https://localhost:8080/"
        },
        "id": "way6wiPz0Q0O",
        "outputId": "6a65fadf-9efb-4fbf-dd01-bc3fe0a872b9"
      },
      "execution_count": 18,
      "outputs": [
        {
          "output_type": "stream",
          "name": "stdout",
          "text": [
            "Epoch 1/10\n",
            "391/391 [==============================] - 49s 100ms/step - loss: 0.6270 - accuracy: 0.5741 - val_loss: 0.4974 - val_accuracy: 0.7953\n",
            "Epoch 2/10\n",
            "391/391 [==============================] - 27s 69ms/step - loss: 0.4435 - accuracy: 0.7875 - val_loss: 0.4053 - val_accuracy: 0.8177\n",
            "Epoch 3/10\n",
            "391/391 [==============================] - 26s 65ms/step - loss: 0.3715 - accuracy: 0.8351 - val_loss: 0.3672 - val_accuracy: 0.8422\n",
            "Epoch 4/10\n",
            "391/391 [==============================] - 24s 62ms/step - loss: 0.3411 - accuracy: 0.8518 - val_loss: 0.3479 - val_accuracy: 0.8526\n",
            "Epoch 5/10\n",
            "391/391 [==============================] - 26s 65ms/step - loss: 0.3290 - accuracy: 0.8590 - val_loss: 0.3354 - val_accuracy: 0.8568\n",
            "Epoch 6/10\n",
            "391/391 [==============================] - 26s 65ms/step - loss: 0.3143 - accuracy: 0.8662 - val_loss: 0.3298 - val_accuracy: 0.8500\n",
            "Epoch 7/10\n",
            "391/391 [==============================] - 25s 64ms/step - loss: 0.3083 - accuracy: 0.8691 - val_loss: 0.3305 - val_accuracy: 0.8510\n",
            "Epoch 8/10\n",
            "391/391 [==============================] - 25s 64ms/step - loss: 0.3046 - accuracy: 0.8718 - val_loss: 0.3212 - val_accuracy: 0.8583\n",
            "Epoch 9/10\n",
            "391/391 [==============================] - 25s 65ms/step - loss: 0.3026 - accuracy: 0.8719 - val_loss: 0.3228 - val_accuracy: 0.8578\n",
            "Epoch 10/10\n",
            "391/391 [==============================] - 25s 65ms/step - loss: 0.3002 - accuracy: 0.8717 - val_loss: 0.3220 - val_accuracy: 0.8578\n"
          ]
        }
      ]
    },
    {
      "cell_type": "code",
      "source": [
        "test_loss, test_acc = model.evaluate(test_dataset)\n",
        "\n",
        "print('Test Loss:', test_loss)\n",
        "print('Test Accuracy:', test_acc)"
      ],
      "metadata": {
        "colab": {
          "base_uri": "https://localhost:8080/"
        },
        "id": "Z1K1M7890b-l",
        "outputId": "b568dc24-ebd3-4d64-8218-f5e92eb24881"
      },
      "execution_count": 19,
      "outputs": [
        {
          "output_type": "stream",
          "name": "stdout",
          "text": [
            "391/391 [==============================] - 14s 36ms/step - loss: 0.3167 - accuracy: 0.8623\n",
            "Test Loss: 0.3166729807853699\n",
            "Test Accuracy: 0.862280011177063\n"
          ]
        }
      ]
    },
    {
      "cell_type": "code",
      "source": [
        "plt.figure(figsize=(16, 8))\n",
        "plt.subplot(1, 2, 1)\n",
        "plot_graphs(history, 'accuracy')\n",
        "plt.ylim(None, 1)\n",
        "plt.subplot(1, 2, 2)\n",
        "plot_graphs(history, 'loss')\n",
        "plt.ylim(0, None)"
      ],
      "metadata": {
        "colab": {
          "base_uri": "https://localhost:8080/",
          "height": 679
        },
        "id": "YOnkDhfG2BWi",
        "outputId": "65f171bc-78e0-451a-8288-a5a2a3d9843a"
      },
      "execution_count": 20,
      "outputs": [
        {
          "output_type": "execute_result",
          "data": {
            "text/plain": [
              "(0.0, 0.643359349668026)"
            ]
          },
          "metadata": {},
          "execution_count": 20
        },
        {
          "output_type": "display_data",
          "data": {
            "text/plain": [
              "<Figure size 1600x800 with 2 Axes>"
            ],
            "image/png": "[encoded data removed]"
          },
          "metadata": {}
        }
      ]
    },
    {
      "cell_type": "code",
      "source": [
        "# Jika prediksi >= 0,0 berarti positif, jika tidak maka negatif\n",
        "\n",
        "sample_text = ('The movie was cool. The animation and the graphics '\n",
        "              'were out of this world. I would recommend this movie.')\n",
        "predictions = model.predict(np.array([sample_text]))"
      ],
      "metadata": {
        "colab": {
          "base_uri": "https://localhost:8080/"
        },
        "id": "3fgQAA_I2IDi",
        "outputId": "0501d365-7315-481b-b900-2e618774526d"
      },
      "execution_count": 21,
      "outputs": [
        {
          "output_type": "stream",
          "name": "stdout",
          "text": [
            "1/1 [==============================] - 3s 3s/step\n"
          ]
        }
      ]
    },
    {
      "cell_type": "code",
      "source": [
        "# Stack two or more LSTM layers\n",
        "\n",
        "model = tf.keras.Sequential([\n",
        "  encoder,\n",
        "  tf.keras.layers.Embedding(len(encoder.get_vocabulary()), 64, mask_zero=True),\n",
        "  tf.keras.layers.Bidirectional(tf.keras.layers.LSTM(64, return_sequences=True)),\n",
        "  tf.keras.layers.Bidirectional(tf.keras.layers.LSTM(32)),\n",
        "  tf.keras.layers.Dense(64, activation='relu'),\n",
        "  tf.keras.layers.Dropout(0.5),\n",
        "  tf.keras.layers.Dense(1)\n",
        "])"
      ],
      "metadata": {
        "id": "R_JQPreZ2UXQ"
      },
      "execution_count": 22,
      "outputs": []
    },
    {
      "cell_type": "code",
      "source": [
        "model.compile(loss=tf.keras.losses.BinaryCrossentropy(from_logits=True),\n",
        "       optimizer=tf.keras.optimizers.Adam(1e-4),\n",
        "       metrics=['accuracy'])"
      ],
      "metadata": {
        "id": "_b2bw7YM2hxS"
      },
      "execution_count": 24,
      "outputs": []
    },
    {
      "cell_type": "code",
      "source": [
        "history = model.fit(train_dataset, epochs=10,\n",
        "          validation_data=test_dataset,\n",
        "          validation_steps=30)"
      ],
      "metadata": {
        "colab": {
          "base_uri": "https://localhost:8080/"
        },
        "id": "w1o3NbPi2mN1",
        "outputId": "98e9458c-07f2-4aa9-fcfe-edc40fdfc425"
      },
      "execution_count": 25,
      "outputs": [
        {
          "output_type": "stream",
          "name": "stdout",
          "text": [
            "Epoch 1/10\n",
            "391/391 [==============================] - 81s 158ms/step - loss: 0.6083 - accuracy: 0.6130 - val_loss: 0.4324 - val_accuracy: 0.7969\n",
            "Epoch 2/10\n",
            "391/391 [==============================] - 50s 125ms/step - loss: 0.3946 - accuracy: 0.8258 - val_loss: 0.3597 - val_accuracy: 0.8484\n",
            "Epoch 3/10\n",
            "391/391 [==============================] - 47s 119ms/step - loss: 0.3466 - accuracy: 0.8520 - val_loss: 0.3448 - val_accuracy: 0.8573\n",
            "Epoch 4/10\n",
            "391/391 [==============================] - 48s 122ms/step - loss: 0.3271 - accuracy: 0.8601 - val_loss: 0.3247 - val_accuracy: 0.8526\n",
            "Epoch 5/10\n",
            "391/391 [==============================] - 48s 121ms/step - loss: 0.3163 - accuracy: 0.8650 - val_loss: 0.3314 - val_accuracy: 0.8401\n",
            "Epoch 6/10\n",
            "391/391 [==============================] - 49s 125ms/step - loss: 0.3122 - accuracy: 0.8677 - val_loss: 0.3220 - val_accuracy: 0.8526\n",
            "Epoch 7/10\n",
            "391/391 [==============================] - 49s 124ms/step - loss: 0.3076 - accuracy: 0.8694 - val_loss: 0.3171 - val_accuracy: 0.8594\n",
            "Epoch 8/10\n",
            "391/391 [==============================] - 50s 128ms/step - loss: 0.3034 - accuracy: 0.8708 - val_loss: 0.3223 - val_accuracy: 0.8557\n",
            "Epoch 9/10\n",
            "391/391 [==============================] - 49s 125ms/step - loss: 0.3013 - accuracy: 0.8717 - val_loss: 0.3195 - val_accuracy: 0.8578\n",
            "Epoch 10/10\n",
            "391/391 [==============================] - 48s 123ms/step - loss: 0.2955 - accuracy: 0.8758 - val_loss: 0.3295 - val_accuracy: 0.8641\n"
          ]
        }
      ]
    },
    {
      "cell_type": "code",
      "source": [
        "test_loss, test_acc = model.evaluate(test_dataset)\n",
        "\n",
        "print('Test Loss:', test_loss)\n",
        "print('Test Accuracy:', test_acc)"
      ],
      "metadata": {
        "colab": {
          "base_uri": "https://localhost:8080/"
        },
        "id": "MOaPG6Wz2w24",
        "outputId": "2c5c625d-9f82-4101-9aa0-7fd3d5426358"
      },
      "execution_count": 26,
      "outputs": [
        {
          "output_type": "stream",
          "name": "stdout",
          "text": [
            "391/391 [==============================] - 22s 55ms/step - loss: 0.3254 - accuracy: 0.8647\n",
            "Test Loss: 0.32539477944374084\n",
            "Test Accuracy: 0.8646799921989441\n"
          ]
        }
      ]
    },
    {
      "cell_type": "code",
      "source": [
        "# predict on a sample text without padding.\n",
        "\n",
        "sample_text = ('The movie was not good. The animation and the graphics '\n",
        "              'were terrible. I would not recommend this movie.')\n",
        "predictions = model.predict(np.array([sample_text]))\n",
        "print(predictions)"
      ],
      "metadata": {
        "colab": {
          "base_uri": "https://localhost:8080/"
        },
        "id": "i07gWXAH9ClE",
        "outputId": "657926fa-d5f3-404b-e5e4-0dfc73347edc"
      },
      "execution_count": 27,
      "outputs": [
        {
          "output_type": "stream",
          "name": "stdout",
          "text": [
            "1/1 [==============================] - 7s 7s/step\n",
            "[[-1.6775137]]\n"
          ]
        }
      ]
    },
    {
      "cell_type": "code",
      "source": [
        "plt.figure(figsize=(16, 6))\n",
        "plt.subplot(1, 2, 1)\n",
        "plot_graphs(history, 'accuracy')\n",
        "plt.subplot(1, 2, 2)\n",
        "plot_graphs(history, 'loss')"
      ],
      "metadata": {
        "colab": {
          "base_uri": "https://localhost:8080/",
          "height": 512
        },
        "id": "OE7YWmNu9YQ1",
        "outputId": "6c1d5f9b-4b3a-4ea7-b975-334883c7e687"
      },
      "execution_count": 28,
      "outputs": [
        {
          "output_type": "display_data",
          "data": {
            "text/plain": [
              "<Figure size 1600x600 with 2 Axes>"
            ],
            "image/png": "[encoded data removed]"
          },
          "metadata": {}
        }
      ]
    },
    {
      "cell_type": "markdown",
      "source": [
        "**Praktikum 2**\n",
        "\n",
        "Generator Teks dengan RNN"
      ],
      "metadata": {
        "id": "Uakibl_89hPp"
      }
    },
    {
      "cell_type": "code",
      "source": [
        "# Setup\n",
        "# Import TensorFlow\n",
        "\n",
        "import tensorflow as tf\n",
        "import numpy as np\n",
        "import os\n",
        "import time"
      ],
      "metadata": {
        "id": "M0yiDnAC9eet"
      },
      "execution_count": 29,
      "outputs": []
    },
    {
      "cell_type": "code",
      "source": [
        "# Download Dataset Shakespeare\n",
        "\n",
        "path_to_file = tf.keras.utils.get_file('shakespeare.txt', 'https://storage.googleapis.com/download.tensorflow.org/data/shakespeare.txt')"
      ],
      "metadata": {
        "colab": {
          "base_uri": "https://localhost:8080/"
        },
        "id": "n-lXPA5796j5",
        "outputId": "85d866cb-8eae-40df-f654-9a235e62a9ff"
      },
      "execution_count": 32,
      "outputs": [
        {
          "output_type": "stream",
          "name": "stdout",
          "text": [
            "Downloading data from https://storage.googleapis.com/download.tensorflow.org/data/shakespeare.txt\n",
            "1115394/1115394 [==============================] - 1s 1us/step\n"
          ]
        }
      ]
    },
    {
      "cell_type": "code",
      "source": [
        "# Load data\n",
        "\n",
        "# Read, then decode for py2 compat.\n",
        "text = open(path_to_file, 'rb').read().decode(encoding='utf-8')\n",
        "# length of text is the number of characters in it\n",
        "print(f'Length of text: {len(text)} characters')"
      ],
      "metadata": {
        "colab": {
          "base_uri": "https://localhost:8080/"
        },
        "id": "sP5MsMs69_Ja",
        "outputId": "b5c1a7c6-91cc-4418-d1cb-e5ebd871db41"
      },
      "execution_count": 33,
      "outputs": [
        {
          "output_type": "stream",
          "name": "stdout",
          "text": [
            "Length of text: 1115394 characters\n"
          ]
        }
      ]
    },
    {
      "cell_type": "code",
      "source": [
        "# Take a look at the first 250 characters in text\n",
        "print(text[:250])"
      ],
      "metadata": {
        "colab": {
          "base_uri": "https://localhost:8080/"
        },
        "id": "YLVXh5qQ-JV2",
        "outputId": "abe54514-0a0c-44fe-9599-8454e0a965e1"
      },
      "execution_count": 34,
      "outputs": [
        {
          "output_type": "stream",
          "name": "stdout",
          "text": [
            "First Citizen:\n",
            "Before we proceed any further, hear me speak.\n",
            "\n",
            "All:\n",
            "Speak, speak.\n",
            "\n",
            "First Citizen:\n",
            "You are all resolved rather to die than to famish?\n",
            "\n",
            "All:\n",
            "Resolved. resolved.\n",
            "\n",
            "First Citizen:\n",
            "First, you know Caius Marcius is chief enemy to the people.\n",
            "\n"
          ]
        }
      ]
    },
    {
      "cell_type": "code",
      "source": [
        "# The unique characters in the file\n",
        "vocab = sorted(set(text))\n",
        "print(f'{len(vocab)} unique characters')"
      ],
      "metadata": {
        "colab": {
          "base_uri": "https://localhost:8080/"
        },
        "id": "CC0pUNGf-K6S",
        "outputId": "2a6f64b5-6f7b-497f-acb0-5da2ace6ba46"
      },
      "execution_count": 35,
      "outputs": [
        {
          "output_type": "stream",
          "name": "stdout",
          "text": [
            "65 unique characters\n"
          ]
        }
      ]
    },
    {
      "cell_type": "code",
      "source": [
        "# Olah Teks\n",
        "\n",
        "# Vectorize Teks\n",
        "example_texts = ['abcdefg', 'xyz']\n",
        "chars = tf.strings.unicode_split(example_texts, input_encoding='UTF-8')\n",
        "chars"
      ],
      "metadata": {
        "colab": {
          "base_uri": "https://localhost:8080/"
        },
        "id": "B5sEJPDc-NTx",
        "outputId": "d9992f1f-55ee-4a0f-b8ed-01604c628b90"
      },
      "execution_count": 36,
      "outputs": [
        {
          "output_type": "execute_result",
          "data": {
            "text/plain": [
              "<tf.RaggedTensor [[b'a', b'b', b'c', b'd', b'e', b'f', b'g'], [b'x', b'y', b'z']]>"
            ]
          },
          "metadata": {},
          "execution_count": 36
        }
      ]
    },
    {
      "cell_type": "code",
      "source": [
        "ids_from_chars = tf.keras.layers.StringLookup(vocabulary=list(vocab), mask_token=None)"
      ],
      "metadata": {
        "id": "c6XtDoQY-acw"
      },
      "execution_count": 37,
      "outputs": []
    },
    {
      "cell_type": "code",
      "source": [
        "ids = ids_from_chars(chars)\n",
        "ids"
      ],
      "metadata": {
        "colab": {
          "base_uri": "https://localhost:8080/"
        },
        "id": "O-AvH-gz-gNC",
        "outputId": "bb1602a5-9a6c-4222-eb08-3f62267f005a"
      },
      "execution_count": 38,
      "outputs": [
        {
          "output_type": "execute_result",
          "data": {
            "text/plain": [
              "<tf.RaggedTensor [[40, 41, 42, 43, 44, 45, 46], [63, 64, 65]]>"
            ]
          },
          "metadata": {},
          "execution_count": 38
        }
      ]
    },
    {
      "cell_type": "code",
      "source": [
        "chars_from_ids = tf.keras.layers.StringLookup(\n",
        "    vocabulary=ids_from_chars.get_vocabulary(), invert=True, mask_token=None)"
      ],
      "metadata": {
        "id": "PxuS6J22-jaH"
      },
      "execution_count": 39,
      "outputs": []
    },
    {
      "cell_type": "code",
      "source": [
        "chars = chars_from_ids(ids)\n",
        "chars"
      ],
      "metadata": {
        "colab": {
          "base_uri": "https://localhost:8080/"
        },
        "id": "RtxyaTwE-lqA",
        "outputId": "9e24321f-d159-4b19-bc8f-56eca609f9a0"
      },
      "execution_count": 40,
      "outputs": [
        {
          "output_type": "execute_result",
          "data": {
            "text/plain": [
              "<tf.RaggedTensor [[b'a', b'b', b'c', b'd', b'e', b'f', b'g'], [b'x', b'y', b'z']]>"
            ]
          },
          "metadata": {},
          "execution_count": 40
        }
      ]
    },
    {
      "cell_type": "code",
      "source": [
        "tf.strings.reduce_join(chars, axis=-1).numpy()"
      ],
      "metadata": {
        "colab": {
          "base_uri": "https://localhost:8080/"
        },
        "id": "UOvWqjQ0-oLF",
        "outputId": "bd221c7b-f3aa-4862-d592-41755d87d146"
      },
      "execution_count": 41,
      "outputs": [
        {
          "output_type": "execute_result",
          "data": {
            "text/plain": [
              "array([b'abcdefg', b'xyz'], dtype=object)"
            ]
          },
          "metadata": {},
          "execution_count": 41
        }
      ]
    },
    {
      "cell_type": "code",
      "source": [
        "def text_from_ids(ids):\n",
        "    return tf.strings.reduce_join(chars_from_ids(ids), axis=-1)"
      ],
      "metadata": {
        "id": "kTsSuEIe-q0V"
      },
      "execution_count": 42,
      "outputs": []
    },
    {
      "cell_type": "code",
      "source": [
        "# Prediksi\n",
        "\n",
        "# Membuat Training Set dan Target\n",
        "all_ids = ids_from_chars(tf.strings.unicode_split(text, 'UTF-8'))\n",
        "all_ids"
      ],
      "metadata": {
        "colab": {
          "base_uri": "https://localhost:8080/"
        },
        "id": "PheL7kcX-w78",
        "outputId": "24cf0586-1970-4398-bdcd-f0e79151b94c"
      },
      "execution_count": 43,
      "outputs": [
        {
          "output_type": "execute_result",
          "data": {
            "text/plain": [
              "<tf.Tensor: shape=(1115394,), dtype=int64, numpy=array([19, 48, 57, ..., 46,  9,  1])>"
            ]
          },
          "metadata": {},
          "execution_count": 43
        }
      ]
    },
    {
      "cell_type": "code",
      "source": [
        "ids_dataset = tf.data.Dataset.from_tensor_slices(all_ids)"
      ],
      "metadata": {
        "id": "uRAfk8Zg-6lL"
      },
      "execution_count": 44,
      "outputs": []
    },
    {
      "cell_type": "code",
      "source": [
        "for ids in ids_dataset.take(10):\n",
        "    print(chars_from_ids(ids).numpy().decode('utf-8'))"
      ],
      "metadata": {
        "colab": {
          "base_uri": "https://localhost:8080/"
        },
        "id": "yf-FA3e2--V_",
        "outputId": "f5b73108-0146-449f-b012-bf2ad8d10f59"
      },
      "execution_count": 45,
      "outputs": [
        {
          "output_type": "stream",
          "name": "stdout",
          "text": [
            "F\n",
            "i\n",
            "r\n",
            "s\n",
            "t\n",
            " \n",
            "C\n",
            "i\n",
            "t\n",
            "i\n"
          ]
        }
      ]
    },
    {
      "cell_type": "code",
      "source": [
        "seq_length = 100"
      ],
      "metadata": {
        "id": "8R1otIkQ_Bix"
      },
      "execution_count": 47,
      "outputs": []
    },
    {
      "cell_type": "code",
      "source": [
        "sequences = ids_dataset.batch(seq_length+1, drop_remainder=True)\n",
        "\n",
        "for seq in sequences.take(1):\n",
        "  print(chars_from_ids(seq))"
      ],
      "metadata": {
        "colab": {
          "base_uri": "https://localhost:8080/"
        },
        "id": "zMCEttU-_DRJ",
        "outputId": "46a1ec86-2292-4a66-9a77-f18503150ab8"
      },
      "execution_count": 48,
      "outputs": [
        {
          "output_type": "stream",
          "name": "stdout",
          "text": [
            "tf.Tensor(\n",
            "[b'F' b'i' b'r' b's' b't' b' ' b'C' b'i' b't' b'i' b'z' b'e' b'n' b':'\n",
            " b'\\n' b'B' b'e' b'f' b'o' b'r' b'e' b' ' b'w' b'e' b' ' b'p' b'r' b'o'\n",
            " b'c' b'e' b'e' b'd' b' ' b'a' b'n' b'y' b' ' b'f' b'u' b'r' b't' b'h'\n",
            " b'e' b'r' b',' b' ' b'h' b'e' b'a' b'r' b' ' b'm' b'e' b' ' b's' b'p'\n",
            " b'e' b'a' b'k' b'.' b'\\n' b'\\n' b'A' b'l' b'l' b':' b'\\n' b'S' b'p' b'e'\n",
            " b'a' b'k' b',' b' ' b's' b'p' b'e' b'a' b'k' b'.' b'\\n' b'\\n' b'F' b'i'\n",
            " b'r' b's' b't' b' ' b'C' b'i' b't' b'i' b'z' b'e' b'n' b':' b'\\n' b'Y'\n",
            " b'o' b'u' b' '], shape=(101,), dtype=string)\n"
          ]
        }
      ]
    },
    {
      "cell_type": "code",
      "source": [
        "for seq in sequences.take(5):\n",
        "    print(text_from_ids(seq).numpy())"
      ],
      "metadata": {
        "colab": {
          "base_uri": "https://localhost:8080/"
        },
        "id": "ubDoUuIj_HVS",
        "outputId": "0f1a768d-260a-4d6d-dc48-a393ac636f24"
      },
      "execution_count": 49,
      "outputs": [
        {
          "output_type": "stream",
          "name": "stdout",
          "text": [
            "b'First Citizen:\\nBefore we proceed any further, hear me speak.\\n\\nAll:\\nSpeak, speak.\\n\\nFirst Citizen:\\nYou '\n",
            "b'are all resolved rather to die than to famish?\\n\\nAll:\\nResolved. resolved.\\n\\nFirst Citizen:\\nFirst, you k'\n",
            "b\"now Caius Marcius is chief enemy to the people.\\n\\nAll:\\nWe know't, we know't.\\n\\nFirst Citizen:\\nLet us ki\"\n",
            "b\"ll him, and we'll have corn at our own price.\\nIs't a verdict?\\n\\nAll:\\nNo more talking on't; let it be d\"\n",
            "b'one: away, away!\\n\\nSecond Citizen:\\nOne word, good citizens.\\n\\nFirst Citizen:\\nWe are accounted poor citi'\n"
          ]
        }
      ]
    },
    {
      "cell_type": "code",
      "source": [
        "def split_input_target(sequence):\n",
        "    input_text = sequence[:-1]\n",
        "    target_text = sequence[1:]\n",
        "    return input_text, target_text"
      ],
      "metadata": {
        "id": "1SMseeSP_Y0O"
      },
      "execution_count": 50,
      "outputs": []
    },
    {
      "cell_type": "code",
      "source": [
        "split_input_target(list(\"Tensorflow\"))"
      ],
      "metadata": {
        "colab": {
          "base_uri": "https://localhost:8080/"
        },
        "id": "yDLspyY3_jlC",
        "outputId": "13968acd-2433-48be-a499-72cafa431f2f"
      },
      "execution_count": 51,
      "outputs": [
        {
          "output_type": "execute_result",
          "data": {
            "text/plain": [
              "(['T', 'e', 'n', 's', 'o', 'r', 'f', 'l', 'o'],\n",
              " ['e', 'n', 's', 'o', 'r', 'f', 'l', 'o', 'w'])"
            ]
          },
          "metadata": {},
          "execution_count": 51
        }
      ]
    },
    {
      "cell_type": "code",
      "source": [
        "dataset = sequences.map(split_input_target)"
      ],
      "metadata": {
        "id": "fdzQFW1a_xaJ"
      },
      "execution_count": 52,
      "outputs": []
    },
    {
      "cell_type": "code",
      "source": [
        "for input_example, target_example in dataset.take(1):\n",
        "    print(\"Input :\", text_from_ids(input_example).numpy())\n",
        "    print(\"Target:\", text_from_ids(target_example).numpy())"
      ],
      "metadata": {
        "colab": {
          "base_uri": "https://localhost:8080/"
        },
        "id": "G5HXmwp-_1ra",
        "outputId": "4d6f3b99-453f-4595-dfa4-e8a9c5dee998"
      },
      "execution_count": 53,
      "outputs": [
        {
          "output_type": "stream",
          "name": "stdout",
          "text": [
            "Input : b'First Citizen:\\nBefore we proceed any further, hear me speak.\\n\\nAll:\\nSpeak, speak.\\n\\nFirst Citizen:\\nYou'\n",
            "Target: b'irst Citizen:\\nBefore we proceed any further, hear me speak.\\n\\nAll:\\nSpeak, speak.\\n\\nFirst Citizen:\\nYou '\n"
          ]
        }
      ]
    },
    {
      "cell_type": "code",
      "source": [
        "# Membuat Batch Training\n",
        "\n",
        "# Batch size\n",
        "BATCH_SIZE = 64\n",
        "\n",
        "# Buffer size to shuffle the dataset\n",
        "# (TF data is designed to work with possibly infinite sequences,\n",
        "# so it doesn't attempt to shuffle the entire sequence in memory. Instead,\n",
        "# it maintains a buffer in which it shuffles elements).\n",
        "BUFFER_SIZE = 10000\n",
        "\n",
        "dataset = (\n",
        "    dataset\n",
        "    .shuffle(BUFFER_SIZE)\n",
        "    .batch(BATCH_SIZE, drop_remainder=True)\n",
        "    .prefetch(tf.data.experimental.AUTOTUNE))\n",
        "\n",
        "dataset"
      ],
      "metadata": {
        "colab": {
          "base_uri": "https://localhost:8080/"
        },
        "id": "1q_u1Xh4_-wP",
        "outputId": "5100f5f3-5f9d-4cc1-b2e8-995e8219b2bd"
      },
      "execution_count": 55,
      "outputs": [
        {
          "output_type": "execute_result",
          "data": {
            "text/plain": [
              "<_PrefetchDataset element_spec=(TensorSpec(shape=(64, 100), dtype=tf.int64, name=None), TensorSpec(shape=(64, 100), dtype=tf.int64, name=None))>"
            ]
          },
          "metadata": {},
          "execution_count": 55
        }
      ]
    },
    {
      "cell_type": "code",
      "source": [
        "# Buat Model\n",
        "\n",
        "# Length of the vocabulary in StringLookup Layer\n",
        "vocab_size = len(ids_from_chars.get_vocabulary())\n",
        "\n",
        "# The embedding dimension\n",
        "embedding_dim = 256\n",
        "\n",
        "# Number of RNN units\n",
        "rnn_units = 1024"
      ],
      "metadata": {
        "id": "FS8K8GTwADF5"
      },
      "execution_count": 56,
      "outputs": []
    },
    {
      "cell_type": "code",
      "source": [
        "class MyModel(tf.keras.Model):\n",
        "  def __init__(self, vocab_size, embedding_dim, rnn_units):\n",
        "    super().__init__(self)\n",
        "    self.embedding = tf.keras.layers.Embedding(vocab_size, embedding_dim)\n",
        "    self.gru = tf.keras.layers.GRU(rnn_units,\n",
        "                                   return_sequences=True,\n",
        "                                   return_state=True)\n",
        "    self.dense = tf.keras.layers.Dense(vocab_size)\n",
        "\n",
        "  def call(self, inputs, states=None, return_state=False, training=False):\n",
        "    x = inputs\n",
        "    x = self.embedding(x, training=training)\n",
        "    if states is None:\n",
        "      states = self.gru.get_initial_state(x)\n",
        "    x, states = self.gru(x, initial_state=states, training=training)\n",
        "    x = self.dense(x, training=training)\n",
        "\n",
        "    if return_state:\n",
        "      return x, states\n",
        "    else:\n",
        "      return x"
      ],
      "metadata": {
        "id": "yMrrtD5yAKH7"
      },
      "execution_count": 57,
      "outputs": []
    },
    {
      "cell_type": "code",
      "source": [
        "model = MyModel(\n",
        "    vocab_size=vocab_size,\n",
        "    embedding_dim=embedding_dim,\n",
        "    rnn_units=rnn_units)"
      ],
      "metadata": {
        "id": "jejJDR-xAMGH"
      },
      "execution_count": 58,
      "outputs": []
    },
    {
      "cell_type": "code",
      "source": [
        "# Uji Model\n",
        "\n",
        "for input_example_batch, target_example_batch in dataset.take(1):\n",
        "    example_batch_predictions = model(input_example_batch)\n",
        "    print(example_batch_predictions.shape, \"# (batch_size, sequence_length, vocab_size)\")"
      ],
      "metadata": {
        "colab": {
          "base_uri": "https://localhost:8080/"
        },
        "id": "RDqsXGQ7AOZp",
        "outputId": "7c7a0ef7-ee0a-4b22-8325-fae31f0aa8a2"
      },
      "execution_count": 59,
      "outputs": [
        {
          "output_type": "stream",
          "name": "stdout",
          "text": [
            "(64, 100, 66) # (batch_size, sequence_length, vocab_size)\n"
          ]
        }
      ]
    },
    {
      "cell_type": "code",
      "source": [
        "model.summary()"
      ],
      "metadata": {
        "colab": {
          "base_uri": "https://localhost:8080/"
        },
        "id": "geBNhYNYASQK",
        "outputId": "f0e1a7b9-6d93-4f17-935f-5e6f3cec6162"
      },
      "execution_count": 60,
      "outputs": [
        {
          "output_type": "stream",
          "name": "stdout",
          "text": [
            "Model: \"my_model\"\n",
            "_________________________________________________________________\n",
            " Layer (type)                Output Shape              Param #   \n",
            "=================================================================\n",
            " embedding_2 (Embedding)     multiple                  16896     \n",
            "                                                                 \n",
            " gru (GRU)                   multiple                  3938304   \n",
            "                                                                 \n",
            " dense_4 (Dense)             multiple                  67650     \n",
            "                                                                 \n",
            "=================================================================\n",
            "Total params: 4022850 (15.35 MB)\n",
            "Trainable params: 4022850 (15.35 MB)\n",
            "Non-trainable params: 0 (0.00 Byte)\n",
            "_________________________________________________________________\n"
          ]
        }
      ]
    },
    {
      "cell_type": "code",
      "source": [
        "sampled_indices = tf.random.categorical(example_batch_predictions[0], num_samples=1)\n",
        "sampled_indices = tf.squeeze(sampled_indices, axis=-1).numpy()\n",
        "\n",
        "sampled_indices"
      ],
      "metadata": {
        "colab": {
          "base_uri": "https://localhost:8080/"
        },
        "id": "Dp7qk4mkAfcR",
        "outputId": "ce714209-bf73-44d2-916d-0871eb7d0150"
      },
      "execution_count": 64,
      "outputs": [
        {
          "output_type": "execute_result",
          "data": {
            "text/plain": [
              "array([30, 13, 52, 10, 32, 32, 17,  0, 42, 41, 37,  4, 11,  3, 28, 30,  3,\n",
              "        8, 61, 52, 48, 58, 58,  1, 33, 27, 10, 55, 49, 21, 52,  8, 32, 27,\n",
              "       12, 59, 24, 33, 30, 56, 40, 25, 11,  9, 24, 26, 20, 43, 16, 25, 56,\n",
              "       22, 39, 14, 18, 24, 56, 30, 64, 17,  0, 31, 10, 12, 35, 64,  5, 26,\n",
              "       35, 61, 43, 65, 28,  3, 17, 33, 59,  0, 39, 20, 49, 58, 18,  8, 16,\n",
              "       64, 56, 44, 29, 33, 20, 23, 36, 49, 62,  2, 27,  1, 45,  2])"
            ]
          },
          "metadata": {},
          "execution_count": 64
        }
      ]
    },
    {
      "cell_type": "code",
      "source": [
        "print(\"Input:\\n\", text_from_ids(input_example_batch[0]).numpy())\n",
        "print()\n",
        "print(\"Next Char Predictions:\\n\", text_from_ids(sampled_indices).numpy())"
      ],
      "metadata": {
        "colab": {
          "base_uri": "https://localhost:8080/"
        },
        "id": "tRmgZBT3A1__",
        "outputId": "c9947d9a-e1a6-4764-e0b9-89c72fdc9a5a"
      },
      "execution_count": 65,
      "outputs": [
        {
          "output_type": "stream",
          "name": "stdout",
          "text": [
            "Input:\n",
            " b' eyes: what\\neye but such an eye would spy out such a quarrel?\\nThy head is as fun of quarrels as an e'\n",
            "\n",
            "Next Char Predictions:\n",
            " b'Q?m3SSD[UNK]cbX$:!OQ!-vmiss\\nTN3pjHm-SN;tKTQqaL:.KMGdCLqIZAEKqQyD[UNK]R3;Vy&MVvdzO!DTt[UNK]ZGjsE-CyqePTGJWjw N\\nf '\n"
          ]
        }
      ]
    },
    {
      "cell_type": "code",
      "source": [
        "# Train Model\n",
        "\n",
        "# Tambahan optimizer dan fungsi loss\n",
        "loss = tf.losses.SparseCategoricalCrossentropy(from_logits=True)\n",
        "\n",
        "example_batch_mean_loss = loss(target_example_batch, example_batch_predictions)\n",
        "print(\"Prediction shape: \", example_batch_predictions.shape, \" # (batch_size, sequence_length, vocab_size)\")\n",
        "print(\"Mean loss:        \", example_batch_mean_loss)"
      ],
      "metadata": {
        "colab": {
          "base_uri": "https://localhost:8080/"
        },
        "id": "itmsr4OBA99r",
        "outputId": "ac500b0c-77e6-440d-d44d-88111e88b95e"
      },
      "execution_count": 66,
      "outputs": [
        {
          "output_type": "stream",
          "name": "stdout",
          "text": [
            "Prediction shape:  (64, 100, 66)  # (batch_size, sequence_length, vocab_size)\n",
            "Mean loss:         tf.Tensor(4.189268, shape=(), dtype=float32)\n"
          ]
        }
      ]
    },
    {
      "cell_type": "code",
      "source": [
        "tf.exp(example_batch_mean_loss).numpy()\n",
        "\n",
        "model.compile(optimizer='adam', loss=loss)"
      ],
      "metadata": {
        "id": "3Siuhl9tBHr4"
      },
      "execution_count": 67,
      "outputs": []
    },
    {
      "cell_type": "code",
      "source": [
        "# Konfigurasi Checkpoints\n",
        "\n",
        "# Directory where the checkpoints will be saved\n",
        "checkpoint_dir = './training_checkpoints'\n",
        "# Name of the checkpoint files\n",
        "checkpoint_prefix = os.path.join(checkpoint_dir, \"ckpt_{epoch}\")\n",
        "\n",
        "checkpoint_callback = tf.keras.callbacks.ModelCheckpoint(\n",
        "    filepath=checkpoint_prefix,\n",
        "    save_weights_only=True)"
      ],
      "metadata": {
        "id": "0wBtkTsGBMXq"
      },
      "execution_count": 68,
      "outputs": []
    },
    {
      "cell_type": "code",
      "source": [
        "# Lakukan Proses Training\n",
        "\n",
        "EPOCHS = 20\n",
        "\n",
        "history = model.fit(dataset, epochs=EPOCHS, callbacks=[checkpoint_callback])"
      ],
      "metadata": {
        "colab": {
          "base_uri": "https://localhost:8080/"
        },
        "id": "Yb4tfQd3BULK",
        "outputId": "cee9ae1f-8f5d-452c-8f65-f0af8d0ad50a"
      },
      "execution_count": 69,
      "outputs": [
        {
          "output_type": "stream",
          "name": "stdout",
          "text": [
            "Epoch 1/20\n",
            "172/172 [==============================] - 15s 63ms/step - loss: 2.6813\n",
            "Epoch 2/20\n",
            "172/172 [==============================] - 12s 62ms/step - loss: 1.9624\n",
            "Epoch 3/20\n",
            "172/172 [==============================] - 12s 61ms/step - loss: 1.6840\n",
            "Epoch 4/20\n",
            "172/172 [==============================] - 12s 61ms/step - loss: 1.5286\n",
            "Epoch 5/20\n",
            "172/172 [==============================] - 12s 61ms/step - loss: 1.4345\n",
            "Epoch 6/20\n",
            "172/172 [==============================] - 12s 60ms/step - loss: 1.3678\n",
            "Epoch 7/20\n",
            "172/172 [==============================] - 12s 60ms/step - loss: 1.3156\n",
            "Epoch 8/20\n",
            "172/172 [==============================] - 12s 60ms/step - loss: 1.2715\n",
            "Epoch 9/20\n",
            "172/172 [==============================] - 12s 61ms/step - loss: 1.2301\n",
            "Epoch 10/20\n",
            "172/172 [==============================] - 12s 61ms/step - loss: 1.1899\n",
            "Epoch 11/20\n",
            "172/172 [==============================] - 12s 60ms/step - loss: 1.1495\n",
            "Epoch 12/20\n",
            "172/172 [==============================] - 12s 60ms/step - loss: 1.1067\n",
            "Epoch 13/20\n",
            "172/172 [==============================] - 12s 60ms/step - loss: 1.0625\n",
            "Epoch 14/20\n",
            "172/172 [==============================] - 12s 61ms/step - loss: 1.0159\n",
            "Epoch 15/20\n",
            "172/172 [==============================] - 12s 61ms/step - loss: 0.9664\n",
            "Epoch 16/20\n",
            "172/172 [==============================] - 12s 61ms/step - loss: 0.9156\n",
            "Epoch 17/20\n",
            "172/172 [==============================] - 12s 61ms/step - loss: 0.8642\n",
            "Epoch 18/20\n",
            "172/172 [==============================] - 12s 61ms/step - loss: 0.8119\n",
            "Epoch 19/20\n",
            "172/172 [==============================] - 12s 59ms/step - loss: 0.7625\n",
            "Epoch 20/20\n",
            "172/172 [==============================] - 12s 59ms/step - loss: 0.7145\n"
          ]
        }
      ]
    },
    {
      "cell_type": "code",
      "source": [
        "# Generate Teks\n",
        "\n",
        "class OneStep(tf.keras.Model):\n",
        "  def __init__(self, model, chars_from_ids, ids_from_chars, temperature=1.0):\n",
        "    super().__init__()\n",
        "    self.temperature = temperature\n",
        "    self.model = model\n",
        "    self.chars_from_ids = chars_from_ids\n",
        "    self.ids_from_chars = ids_from_chars\n",
        "\n",
        "    # Create a mask to prevent \"[UNK]\" from being generated.\n",
        "    skip_ids = self.ids_from_chars(['[UNK]'])[:, None]\n",
        "    sparse_mask = tf.SparseTensor(\n",
        "        # Put a -inf at each bad index.\n",
        "        values=[-float('inf')]*len(skip_ids),\n",
        "        indices=skip_ids,\n",
        "        # Match the shape to the vocabulary\n",
        "        dense_shape=[len(ids_from_chars.get_vocabulary())])\n",
        "    self.prediction_mask = tf.sparse.to_dense(sparse_mask)\n",
        "\n",
        "  @tf.function\n",
        "  def generate_one_step(self, inputs, states=None):\n",
        "    # Convert strings to token IDs.\n",
        "    input_chars = tf.strings.unicode_split(inputs, 'UTF-8')\n",
        "    input_ids = self.ids_from_chars(input_chars).to_tensor()\n",
        "\n",
        "    # Run the model.\n",
        "    # predicted_logits.shape is [batch, char, next_char_logits]\n",
        "    predicted_logits, states = self.model(inputs=input_ids, states=states,\n",
        "                                          return_state=True)\n",
        "    # Only use the last prediction.\n",
        "    predicted_logits = predicted_logits[:, -1, :]\n",
        "    predicted_logits = predicted_logits/self.temperature\n",
        "    # Apply the prediction mask: prevent \"[UNK]\" from being generated.\n",
        "    predicted_logits = predicted_logits + self.prediction_mask\n",
        "\n",
        "    # Sample the output logits to generate token IDs.\n",
        "    predicted_ids = tf.random.categorical(predicted_logits, num_samples=1)\n",
        "    predicted_ids = tf.squeeze(predicted_ids, axis=-1)\n",
        "\n",
        "    # Convert from token ids to characters\n",
        "    predicted_chars = self.chars_from_ids(predicted_ids)\n",
        "\n",
        "    # Return the characters and model state.\n",
        "    return predicted_chars, states"
      ],
      "metadata": {
        "id": "KBQU1z4XBdy7"
      },
      "execution_count": 70,
      "outputs": []
    },
    {
      "cell_type": "code",
      "source": [
        "one_step_model = OneStep(model, chars_from_ids, ids_from_chars)"
      ],
      "metadata": {
        "id": "4tqi3ypOFg7X"
      },
      "execution_count": 71,
      "outputs": []
    },
    {
      "cell_type": "code",
      "source": [
        "start = time.time()\n",
        "states = None\n",
        "next_char = tf.constant(['ROMEO:'])\n",
        "result = [next_char]\n",
        "\n",
        "for n in range(1000):\n",
        "  next_char, states = one_step_model.generate_one_step(next_char, states=states)\n",
        "  result.append(next_char)\n",
        "\n",
        "result = tf.strings.join(result)\n",
        "end = time.time()\n",
        "print(result[0].numpy().decode('utf-8'), '\\n\\n' + '_'*80)\n",
        "print('\\nRun time:', end - start)"
      ],
      "metadata": {
        "colab": {
          "base_uri": "https://localhost:8080/"
        },
        "id": "t53oycp3FlME",
        "outputId": "eba1cb0f-c7fc-4730-cced-f8ba8337072e"
      },
      "execution_count": 72,
      "outputs": [
        {
          "output_type": "stream",
          "name": "stdout",
          "text": [
            "ROMEO:\n",
            "The time scarcely seem us to our graves.\n",
            "O, but he's side my lord I'll make few\n",
            "To the fear tome men of war, was supposed remorse:\n",
            "Let me be punish and Marcius is cheeked a\n",
            "love should end a foolish keal: have you so ask?\n",
            "\n",
            "Second Watchman:\n",
            "A murrain's thun; and orper, call'd 'stay; For God he knows, Camillo;\n",
            "Tremble doom,--if you will take green England.\n",
            "\n",
            "NORTHUMBERLAND:\n",
            "His plainly keep thousand men, which we\n",
            "denied but me and undertake to law aside.\n",
            "\n",
            "QUEEN MARGARET:\n",
            "Hold it doth, that yet remains,\n",
            "This quench the angels whore that was more gasp,\n",
            "Like death, or suffering by the christs; a very\n",
            "deceiving him.\n",
            "\n",
            "Citizens:\n",
            "I know not what with satisfaction canst thou flat?\n",
            "\n",
            "BUCKINGHAM:\n",
            "My Lord of George and oxicoces be his sight!\n",
            "What wish! what think'st thou?\n",
            "He will hear him, and old contrarected\n",
            "stumbled, where and nothing elses here the\n",
            "bowl, sir, was sudden from the earldom of mine eye\n",
            "Than fortune bills, for prefured to the full and safety.\n",
            "'Se indexerate prevake gone. Is this youn \n",
            "\n",
            "________________________________________________________________________________\n",
            "\n",
            "Run time: 4.702496528625488\n"
          ]
        }
      ]
    },
    {
      "cell_type": "code",
      "source": [
        "start = time.time()\n",
        "states = None\n",
        "next_char = tf.constant(['ROMEO:', 'ROMEO:', 'ROMEO:', 'ROMEO:', 'ROMEO:'])\n",
        "result = [next_char]\n",
        "\n",
        "for n in range(1000):\n",
        "  next_char, states = one_step_model.generate_one_step(next_char, states=states)\n",
        "  result.append(next_char)\n",
        "\n",
        "result = tf.strings.join(result)\n",
        "end = time.time()\n",
        "print(result, '\\n\\n' + '_'*80)\n",
        "print('\\nRun time:', end - start)"
      ],
      "metadata": {
        "colab": {
          "base_uri": "https://localhost:8080/"
        },
        "id": "wBNwSwnqFnvM",
        "outputId": "87d6d339-a169-4d1c-df38-52667a2c0aff"
      },
      "execution_count": 73,
      "outputs": [
        {
          "output_type": "stream",
          "name": "stdout",
          "text": [
            "tf.Tensor(\n",
            "[b\"ROMEO:\\nThe becomies sigh of them very closely particulary,\\nOn pain of death terror Brangot.\\n\\nLEONTES:\\nI'll not to her: Kate, and so, sir; for\\nwithin this night, we do importune\\nhonesty--on the Admoder, as our good shadows.\\n\\nWARWICK:\\nSo shall we tell where have you like perpetual.\\n\\nLUCIO:\\nNot as a drunk; therefore if you be, her brother\\nBlue cast thy curses through a travelly.\\n\\nWARWICK:\\nAy, but they say, ask it elsewhere.\\n\\nPAULINA:\\nIndeed, my lords,\\nLook, sir! what said Mortion, obey?\\nWhat is it that I daunt his enouncain issue,\\nAs, what you ha, though you have said,\\nBecause his natural slaves thy name,\\nOr water and creditom sorn them time;\\nWhere shall we see him, was his holidate,\\nAnd fightful frign, our nearness to me on;\\nAnd turn'd mine eyes to be Luceetingain,\\nWhat sayest thou? is that so stead of war\\nTruer love and frant-cooken fingers are may.\\nGo bear this present dear for't: give\\nthe gods, all sees all night, and tears garment for Richard:\\nTo men ere men Bolingbroke and the Duke of Buc\"\n",
            " b\"ROMEO:\\nThat his soul hear not this Antiates;\\nBoth mark merely within her lip, a breath;\\nThe brother is our males of Roman,\\nAfter Buchard, I run by all and perjury.\\n3 KING HENRY VI\\n\\nYORK:\\nFor God's sake, lords, good bear with her! Set it have chast\\nbe madable and to stite and franks:\\nWhich friends shall beat the sin that mought on him,\\nIf he be so, he raches expiring destroy\\nBy instructed fury grow to the people,--\\n\\nLUCIO:\\n\\nyor Henry the man live Beaking to scrip.\\n\\nSecond Watchman:' 'ho'er at money for the\\nsilencer; and for retress it was my false\\nAnd there press'd the shadger of the king,\\nLest thou my state was fair and sovereign.\\n\\nWARWICK:\\nAway! let's ha' no more owe them, if they\\nScarcal ease, as if that Edward is\\nAs the fairest steed, what men at once known\\nWhat they say it is the way, I'll ran\\nFrom Rosalite? here lies my lady's daughter.\\nAnd what then, since then?\\n\\nMISTRESS OVERDONE:\\nNay, nay, methought the sight of angel flees;\\nOr water unburning well-deserved Thee.\\n\\nBUCKINGHAM:\\nI will \"\n",
            " b\"ROMEO:\\nThou cailst,\\nAnd tear the frivator of thy love, tendering\\nWhat cure day, it were nose goodness together:\\nThe mighty is fled than him draw more:\\nAnd, being a kind of nature, sir,\\nTheir eyes stand and flower-shook of honour,\\nIf not to fight it out your grace: the citizens\\nWas buried. Giordellords o' the cur, when thou dost,\\nAnd beat a braghage and my mother love.\\nAh, kear us that all-gaunt's mane is my\\nwife.\\n\\nCAMILLO:\\nNay, how fell any which consider\\nIs nothing with the letter through the crown;\\nAnd for the crown for Groucester here,\\nTo all our last respects, with thy blood of death:\\nAnd ten thee prince which he did lament\\nTo speak for truth and fruit-cherity;\\nOut on her sad look unto the sadness\\nAre the young prince Edward barr'd, in falling, pay\\nFor this world fall's for vain things there's news.\\n\\nRIVERS:\\nThat's my person, and that thou went'st. Come on;\\nLet Richmond wive was wont to bitterful me,\\nHis eyes doth set a buspass\\nMy patrom, Tybalt from the crown I'll find\\nThee return again\"\n",
            " b\"ROMEO:\\nI do make me wise.\\n\\nTRANIO:\\nI think hid her so long as Edward, so proud stands on thee.\\n\\nKATHARINA:\\nO heavens! My bons, we beard\\nThe tatchful gubful blood redress have free\\nFear'd for the renowness of my child,\\nTo go with worse things not to be broight my informan\\nOr what you are, and one that would\\nClean they were flone: some less, such a design.\\n\\nGeotless and Perdatar squirr'd with all\\nceased this man's threets: but I dare not take\\nThe cedar that pullet down. Had we press\\nUpon the city.\\n\\nESCALUS:\\n\\nKING EDWARD IV:\\nGolden temple cries out thou out of currant,\\nDefitimed and suit authority.\\n\\nGREMIO:\\nYou are welcome, gentle Clarence: ho's at veil'd with\\nA safer glass, even as we passage for,\\nAnd reason with my heart for weak; you are writ son,\\nI'll venture so lunk the flattering tyranness,\\nAnd watch thy sighs from subjects, take't;\\nIt banish'd, and ten too soundly' his help.\\n\\nGLOUCESTER:\\nI pray you, lords, towards Coventry, love:\\nne'er away to avoid, I have in that the visitation change\\n\"\n",
            " b\"ROMEO:\\nI umpertainty it.\\n\\nBALTHASAR:\\nI did will compoit it with our comforts;\\nFor I warrant thy great sport in this present philo,\\nAnd proved me for unking'd one.\\nAway! for watch shembles thus they draw.\\n\\nROMEO:\\nHere she used me to your worship.\\n\\nVOLUMNIA:\\nBrother, gentle right currant; here's her doing.\\n\\nKING HENRY VI:\\nWhat is the boy? 'tis he with child bo others,\\nTo unbust infant all hath held his queen,\\nDoves what you love the gods happy\\nAs: woe John all Sime ready for Rome;\\nAnd thou, Herring him in her hand;\\nLiving the sun hath maiden'd her lengthen'd hours.\\n\\nKING RICHARD II:\\nThank thee, who, traitors and the charge\\nUntil the envours hide most strong by Barsen:\\nThese news abroad us for Claudio's,\\nTo watch the third, they say.\\n\\nGONZALO:\\nBecause suffer't. If Aufidius sit by virtues it instance.\\n\\nHORTENSIO:\\nSir, I will not play to make a skill a sleep.\\nMy father was a little apparel and they\\nwill shake the seentible of the park,--\\n\\nYORK:\\nMint I think you, Mars, I demand.\\n\\nMONTAGUE:\\nThou sh\"], shape=(5,), dtype=string) \n",
            "\n",
            "________________________________________________________________________________\n",
            "\n",
            "Run time: 4.06779146194458\n"
          ]
        }
      ]
    },
    {
      "cell_type": "code",
      "source": [
        "# Ekspor Model Generator\n",
        "\n",
        "tf.saved_model.save(one_step_model, 'one_step')\n",
        "one_step_reloaded = tf.saved_model.load('one_step')"
      ],
      "metadata": {
        "colab": {
          "base_uri": "https://localhost:8080/"
        },
        "id": "sjDR_ctKFsiN",
        "outputId": "ff1f93c2-be92-4ec9-e6d6-3160120b214b"
      },
      "execution_count": 74,
      "outputs": [
        {
          "output_type": "stream",
          "name": "stderr",
          "text": [
            "WARNING:tensorflow:Skipping full serialization of Keras layer <__main__.OneStep object at 0x7feddf373700>, because it is not built.\n",
            "WARNING:tensorflow:Model's `__init__()` arguments contain non-serializable objects. Please implement a `get_config()` method in the subclassed Model for proper saving and loading. Defaulting to empty config.\n",
            "WARNING:tensorflow:Model's `__init__()` arguments contain non-serializable objects. Please implement a `get_config()` method in the subclassed Model for proper saving and loading. Defaulting to empty config.\n"
          ]
        }
      ]
    },
    {
      "cell_type": "code",
      "source": [
        "states = None\n",
        "next_char = tf.constant(['ROMEO:'])\n",
        "result = [next_char]\n",
        "\n",
        "for n in range(100):\n",
        "  next_char, states = one_step_reloaded.generate_one_step(next_char, states=states)\n",
        "  result.append(next_char)\n",
        "\n",
        "print(tf.strings.join(result)[0].numpy().decode(\"utf-8\"))"
      ],
      "metadata": {
        "colab": {
          "base_uri": "https://localhost:8080/"
        },
        "id": "Wi5S-EncF3f7",
        "outputId": "5214ab21-a245-4668-f158-d8a6eafe1cb6"
      },
      "execution_count": 75,
      "outputs": [
        {
          "output_type": "stream",
          "name": "stdout",
          "text": [
            "ROMEO:\n",
            "That's to sayn.\n",
            "\n",
            "PAULINA:\n",
            "To the place esteem up him there:\n",
            "Then am I kins from grief but honest wa\n"
          ]
        }
      ]
    },
    {
      "cell_type": "markdown",
      "source": [
        "# Tugas Praktikum\n",
        "\n",
        "1. Jalankan Model dan hitung loss dengan tf.GradientTape.\n",
        "2. Hitung update dan terapkan pada model dengan optimizer\n",
        "\n",
        "Jawab"
      ],
      "metadata": {
        "id": "_yhV9th4GBnE"
      }
    },
    {
      "cell_type": "code",
      "source": [
        "class CustomTraining(MyModel):\n",
        " @tf.function\n",
        " def train_step(self, inputs):\n",
        "   inputs, labels = inputs\n",
        "   with tf.GradientTape() as tape:\n",
        "     predictions = self(inputs, training=True)\n",
        "     loss = self.loss(labels, predictions)\n",
        "   grads = tape.gradient(loss, model.trainable_variables)\n",
        "   self.optimizer.apply_gradients(zip(grads, model.trainable_variables))\n",
        "\n",
        "   return {'loss': loss}"
      ],
      "metadata": {
        "id": "s-NKszTWGLaP"
      },
      "execution_count": 76,
      "outputs": []
    },
    {
      "cell_type": "code",
      "source": [
        "model = CustomTraining(\n",
        "  vocab_size=len(ids_from_chars.get_vocabulary()),\n",
        "  embedding_dim=embedding_dim,\n",
        "  rnn_units=rnn_units)"
      ],
      "metadata": {
        "id": "ba90jvqqGask"
      },
      "execution_count": 77,
      "outputs": []
    },
    {
      "cell_type": "code",
      "source": [
        "model.compile(optimizer = tf.keras.optimizers.Adam(),\n",
        "       loss=tf.keras.losses.SparseCategoricalCrossentropy(from_logits=True))"
      ],
      "metadata": {
        "id": "tp_lbt7DGe4u"
      },
      "execution_count": 78,
      "outputs": []
    },
    {
      "cell_type": "code",
      "source": [
        "model.fit(dataset, epochs=1)"
      ],
      "metadata": {
        "colab": {
          "base_uri": "https://localhost:8080/"
        },
        "id": "BT4RtZjRGjDo",
        "outputId": "bbef2c2f-c626-4621-c421-00e7361b1b83"
      },
      "execution_count": 79,
      "outputs": [
        {
          "output_type": "stream",
          "name": "stdout",
          "text": [
            "172/172 [==============================] - 15s 53ms/step - loss: 2.7160\n"
          ]
        },
        {
          "output_type": "execute_result",
          "data": {
            "text/plain": [
              "<keras.src.callbacks.History at 0x7fedde7d7b80>"
            ]
          },
          "metadata": {},
          "execution_count": 79
        }
      ]
    },
    {
      "cell_type": "markdown",
      "source": [
        "Atau jika ingin lebih mengetahui dalamnya, kita bisa membuat custom training loop sendiri:"
      ],
      "metadata": {
        "id": "GYLdnlgaGx9d"
      }
    },
    {
      "cell_type": "code",
      "source": [
        "EPOCHS = 10\n",
        "\n",
        "mean = tf.metrics.Mean()\n",
        "\n",
        "for epoch in range(EPOCHS):\n",
        "  start = time.time()\n",
        "\n",
        "  mean.reset_states()\n",
        "  for (batch_n, (inp, target)) in enumerate(dataset):\n",
        "    logs = model.train_step([inp, target])\n",
        "    mean.update_state(logs['loss'])\n",
        "\n",
        "    if batch_n % 50 == 0:\n",
        "      template = f\"Epoch {epoch+1} Batch {batch_n} Loss {logs['loss']:.4f}\"\n",
        "      print(template)\n",
        "\n",
        "# saving (checkpoint) the model every 5 epochs\n",
        "  if (epoch + 1) % 5 == 0:\n",
        "   model.save_weights(checkpoint_prefix.format(epoch=epoch))\n",
        "\n",
        "print()\n",
        "print(f'Epoch {epoch+1} Loss: {mean.result().numpy():.4f}')\n",
        "print(f'Time taken for 1 epoch {time.time() - start:.2f} sec')\n",
        "print(\"_\"*80)\n",
        "\n",
        "model.save_weights(checkpoint_prefix.format(epoch=epoch))"
      ],
      "metadata": {
        "colab": {
          "base_uri": "https://localhost:8080/"
        },
        "id": "RKYFudmBGlM9",
        "outputId": "7740196a-ae15-492d-9c0e-42c456765fff"
      },
      "execution_count": 80,
      "outputs": [
        {
          "output_type": "stream",
          "name": "stdout",
          "text": [
            "Epoch 1 Batch 0 Loss 2.1665\n",
            "Epoch 1 Batch 50 Loss 2.0271\n",
            "Epoch 1 Batch 100 Loss 1.9661\n",
            "Epoch 1 Batch 150 Loss 1.8632\n",
            "Epoch 2 Batch 0 Loss 1.8623\n",
            "Epoch 2 Batch 50 Loss 1.7328\n",
            "Epoch 2 Batch 100 Loss 1.6990\n",
            "Epoch 2 Batch 150 Loss 1.6270\n",
            "Epoch 3 Batch 0 Loss 1.6350\n",
            "Epoch 3 Batch 50 Loss 1.5826\n",
            "Epoch 3 Batch 100 Loss 1.5552\n",
            "Epoch 3 Batch 150 Loss 1.4923\n",
            "Epoch 4 Batch 0 Loss 1.4557\n",
            "Epoch 4 Batch 50 Loss 1.4962\n",
            "Epoch 4 Batch 100 Loss 1.4503\n",
            "Epoch 4 Batch 150 Loss 1.4038\n",
            "Epoch 5 Batch 0 Loss 1.4095\n",
            "Epoch 5 Batch 50 Loss 1.3459\n",
            "Epoch 5 Batch 100 Loss 1.4293\n",
            "Epoch 5 Batch 150 Loss 1.3542\n",
            "Epoch 6 Batch 0 Loss 1.3092\n",
            "Epoch 6 Batch 50 Loss 1.2857\n",
            "Epoch 6 Batch 100 Loss 1.3070\n",
            "Epoch 6 Batch 150 Loss 1.3275\n",
            "Epoch 7 Batch 0 Loss 1.2603\n",
            "Epoch 7 Batch 50 Loss 1.2507\n",
            "Epoch 7 Batch 100 Loss 1.2969\n",
            "Epoch 7 Batch 150 Loss 1.2895\n",
            "Epoch 8 Batch 0 Loss 1.1972\n",
            "Epoch 8 Batch 50 Loss 1.2201\n",
            "Epoch 8 Batch 100 Loss 1.2709\n",
            "Epoch 8 Batch 150 Loss 1.2398\n",
            "Epoch 9 Batch 0 Loss 1.1840\n",
            "Epoch 9 Batch 50 Loss 1.2263\n",
            "Epoch 9 Batch 100 Loss 1.1970\n",
            "Epoch 9 Batch 150 Loss 1.1909\n",
            "Epoch 10 Batch 0 Loss 1.1466\n",
            "Epoch 10 Batch 50 Loss 1.1529\n",
            "Epoch 10 Batch 100 Loss 1.1584\n",
            "Epoch 10 Batch 150 Loss 1.1945\n",
            "\n",
            "Epoch 10 Loss: 1.1610\n",
            "Time taken for 1 epoch 10.99 sec\n",
            "________________________________________________________________________________\n"
          ]
        }
      ]
    },
    {
      "cell_type": "markdown",
      "source": [
        "**Jalankan kode diatas dan sebutkan perbedaanya dengan praktikum 2?**\n",
        "\n",
        "1. Model: Praktikum 2 menggunakan model RNN, sementara pelatihan tugas menggunakan model yang lebih kompleks, yaitu GRU.\n",
        "2. Epochs: Praktikum 2 menjalankan model selama 20 epoch, sementara pelatihan tugas hanya selama 10 epoch.\n",
        "3. Prosedur Pelatihan: Praktikum 2 lebih sederhana karena menggunakan metode bawaan Keras, sedangkan pelatihan tugas melibatkan pengaturan yang lebih kustom dengan train_step.\n",
        "4. Output Hasil Pelatihan: Praktikum 2 memberikan info singkat tentang loss, sedangkan pelatihan tugas mencantumkan loss untuk setiap batch dan epoch, serta waktu eksekusi.\n",
        "5. Waktu Eksekusi: Praktikum 2 mungkin lebih cepat karena model sederhana dan 20 epoch, sedangkan pelatihan tugas lebih lama karena 10 epoch dan mungkin model yang lebih rumit."
      ],
      "metadata": {
        "id": "vHxa1j3IJNxZ"
      }
    }
  ]
}